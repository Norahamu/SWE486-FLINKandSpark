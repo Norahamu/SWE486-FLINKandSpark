{
 "cells": [
  {
   "cell_type": "code",
   "execution_count": 1,
   "id": "314c5750-e57c-4dfd-aef8-c2cef1432e30",
   "metadata": {},
   "outputs": [
    {
     "name": "stdout",
     "output_type": "stream",
     "text": [
      "Requirement already satisfied: matplotlib in /usr/local/python/3.12.1/lib/python3.12/site-packages (3.8.4)\n",
      "Requirement already satisfied: pyspark in /usr/local/python/3.12.1/lib/python3.12/site-packages (3.5.3)\n",
      "Requirement already satisfied: contourpy>=1.0.1 in /home/codespace/.local/lib/python3.12/site-packages (from matplotlib) (1.3.0)\n",
      "Requirement already satisfied: cycler>=0.10 in /home/codespace/.local/lib/python3.12/site-packages (from matplotlib) (0.12.1)\n",
      "Requirement already satisfied: fonttools>=4.22.0 in /home/codespace/.local/lib/python3.12/site-packages (from matplotlib) (4.54.1)\n",
      "Requirement already satisfied: kiwisolver>=1.3.1 in /home/codespace/.local/lib/python3.12/site-packages (from matplotlib) (1.4.7)\n",
      "Requirement already satisfied: numpy>=1.21 in /home/codespace/.local/lib/python3.12/site-packages (from matplotlib) (2.1.1)\n",
      "Requirement already satisfied: packaging>=20.0 in /home/codespace/.local/lib/python3.12/site-packages (from matplotlib) (24.1)\n",
      "Requirement already satisfied: pillow>=8 in /home/codespace/.local/lib/python3.12/site-packages (from matplotlib) (10.4.0)\n",
      "Requirement already satisfied: pyparsing>=2.3.1 in /home/codespace/.local/lib/python3.12/site-packages (from matplotlib) (3.1.4)\n",
      "Requirement already satisfied: python-dateutil>=2.7 in /home/codespace/.local/lib/python3.12/site-packages (from matplotlib) (2.9.0.post0)\n",
      "Requirement already satisfied: py4j==0.10.9.7 in /usr/local/python/3.12.1/lib/python3.12/site-packages (from pyspark) (0.10.9.7)\n",
      "Requirement already satisfied: six>=1.5 in /home/codespace/.local/lib/python3.12/site-packages (from python-dateutil>=2.7->matplotlib) (1.16.0)\n"
     ]
    }
   ],
   "source": [
    "!pip install matplotlib pyspark"
   ]
  },
  {
   "cell_type": "code",
   "execution_count": 2,
   "id": "13da1583-56c5-4750-9142-2741f6e25427",
   "metadata": {},
   "outputs": [
    {
     "name": "stdout",
     "output_type": "stream",
     "text": [
      "Requirement already satisfied: chardet in /usr/local/python/3.12.1/lib/python3.12/site-packages (5.2.0)\n"
     ]
    }
   ],
   "source": [
    "!pip install chardet"
   ]
  },
  {
   "cell_type": "code",
   "execution_count": 3,
   "id": "93e90206-a0be-4c6b-a53a-89419d8eab24",
   "metadata": {},
   "outputs": [
    {
     "name": "stdout",
     "output_type": "stream",
     "text": [
      "Requirement already satisfied: arabic-reshaper in /usr/local/python/3.12.1/lib/python3.12/site-packages (3.0.0)\n",
      "Requirement already satisfied: python-bidi in /usr/local/python/3.12.1/lib/python3.12/site-packages (0.6.1)\n"
     ]
    }
   ],
   "source": [
    "!pip install arabic-reshaper python-bidi"
   ]
  },
  {
   "cell_type": "code",
   "execution_count": 4,
   "id": "6a18a663-1014-488b-ad5a-a1e0aa00a672",
   "metadata": {},
   "outputs": [],
   "source": [
    "import os\n",
    "import pandas as pd\n",
    "import numpy as np\n",
    "import chardet\n",
    "import matplotlib.pyplot as plt\n",
    "import plotly.express as px\n",
    "import plotly.graph_objects as go\n",
    "import seaborn as sns\n",
    "from pyspark.sql import SparkSession\n",
    "from sklearn.linear_model import LinearRegression\n",
    "from matplotlib import font_manager\n",
    "import arabic_reshaper\n",
    "from bidi.algorithm import get_display"
   ]
  },
  {
   "cell_type": "code",
   "execution_count": 5,
   "id": "138693d3-9568-42ac-ac55-502e21e1f57e",
   "metadata": {},
   "outputs": [
    {
     "name": "stderr",
     "output_type": "stream",
     "text": [
      "24/10/15 20:30:39 WARN Utils: Your hostname, codespaces-cdb1ad resolves to a loopback address: 127.0.0.1; using 10.0.1.116 instead (on interface eth0)\n",
      "24/10/15 20:30:39 WARN Utils: Set SPARK_LOCAL_IP if you need to bind to another address\n",
      "Setting default log level to \"WARN\".\n",
      "To adjust logging level use sc.setLogLevel(newLevel). For SparkR, use setLogLevel(newLevel).\n",
      "24/10/15 20:30:40 WARN NativeCodeLoader: Unable to load native-hadoop library for your platform... using builtin-java classes where applicable\n"
     ]
    }
   ],
   "source": [
    "spark = SparkSession.builder \\\n",
    "    .appName(\"Article Category Trend Analysis\") \\\n",
    "    .master(\"local[*]\") \\\n",
    "    .config(\"spark.driver.memory\", \"8g\") \\\n",
    "    .config(\"spark.executor.extraJavaOptions\", \"-XX:+PrintGCDetails -XX:+PrintGCTimeStamps -Xloggc:/path/to/gc.log\") \\\n",
    "    .getOrCreate()"
   ]
  },
  {
   "cell_type": "code",
   "execution_count": 6,
   "id": "c89ea4b5-16bc-4eda-80a0-01eac8d91541",
   "metadata": {},
   "outputs": [],
   "source": [
    "csv_directory = ('../Dataset/')"
   ]
  },
  {
   "cell_type": "code",
   "execution_count": 7,
   "id": "2ef99e6c-7f43-43c9-a748-daa61b8f16b0",
   "metadata": {},
   "outputs": [],
   "source": [
    "all_data = pd.DataFrame()\n",
    "failed_files = []"
   ]
  },
  {
   "cell_type": "code",
   "execution_count": 8,
   "id": "9bc6ff00-3d2d-4423-812c-83e08ac85dec",
   "metadata": {},
   "outputs": [],
   "source": [
    "def detect_encoding(file_path):\n",
    "    \"\"\"Detect the encoding of a file.\"\"\"\n",
    "    with open(file_path, 'rb') as f:\n",
    "        result = chardet.detect(f.read(10000))  \n",
    "    return result['encoding']"
   ]
  },
  {
   "cell_type": "code",
   "execution_count": 9,
   "id": "2d1fad90-bfe1-456e-b762-f855e6461789",
   "metadata": {},
   "outputs": [
    {
     "name": "stderr",
     "output_type": "stream",
     "text": [
      "24/10/15 20:30:55 WARN GarbageCollectionMetrics: To enable non-built-in garbage collector(s) List(G1 Concurrent GC), users should configure it(them) to spark.eventLog.gcMetrics.youngGenerationGarbageCollectors or spark.eventLog.gcMetrics.oldGenerationGarbageCollectors\n"
     ]
    },
    {
     "name": "stdout",
     "output_type": "stream",
     "text": [
      "Loaded part-00007-5e194d26-a8d2-4362-a3ba-8db470c839a8-c000.csv with encoding utf-8\n",
      "Loaded part-00010-5e194d26-a8d2-4362-a3ba-8db470c839a8-c000.csv with encoding utf-8\n",
      "Loaded part-00009-5e194d26-a8d2-4362-a3ba-8db470c839a8-c000.csv with encoding utf-8\n",
      "Loaded part-00004-5e194d26-a8d2-4362-a3ba-8db470c839a8-c000.csv with encoding utf-8\n",
      "Loaded part-00000-5e194d26-a8d2-4362-a3ba-8db470c839a8-c000.csv with encoding utf-8\n",
      "Loaded part-00001-5e194d26-a8d2-4362-a3ba-8db470c839a8-c000.csv with encoding utf-8\n",
      "Loaded part-00003-5e194d26-a8d2-4362-a3ba-8db470c839a8-c000.csv with encoding utf-8\n",
      "Loaded part-00006-5e194d26-a8d2-4362-a3ba-8db470c839a8-c000.csv with encoding utf-8\n",
      "Loaded part-00008-5e194d26-a8d2-4362-a3ba-8db470c839a8-c000.csv with encoding utf-8\n",
      "Loaded part-00005-5e194d26-a8d2-4362-a3ba-8db470c839a8-c000.csv with encoding utf-8\n",
      "Loaded part-00002-5e194d26-a8d2-4362-a3ba-8db470c839a8-c000.csv with encoding utf-8\n",
      "Loaded part-00012-5e194d26-a8d2-4362-a3ba-8db470c839a8-c000.csv with encoding utf-8\n",
      "Loaded part-00011-5e194d26-a8d2-4362-a3ba-8db470c839a8-c000.csv with encoding utf-8\n",
      "Data loaded: (6391767, 4)\n"
     ]
    }
   ],
   "source": [
    "for filename in os.listdir(csv_directory):\n",
    "    if filename.endswith('.csv'):\n",
    "        file_path = os.path.join(csv_directory, filename)\n",
    "        encoding = detect_encoding(file_path) \n",
    "        try:\n",
    "            temp_data = pd.read_csv(file_path, encoding=encoding, on_bad_lines='skip')  # Skip bad lines\n",
    "            all_data = pd.concat([all_data, temp_data], ignore_index=True)\n",
    "            print(f\"Loaded {filename} with encoding {encoding}\")\n",
    "        except Exception as e:\n",
    "            print(f\"Failed to load {filename} with detected encoding {encoding}: {e}\")\n",
    "            failed_files.append(filename) \n",
    "\n",
    "            try:\n",
    "                temp_data = pd.read_csv(file_path, encoding='ISO-8859-1', on_bad_lines='skip')\n",
    "                all_data = pd.concat([all_data, temp_data], ignore_index=True)\n",
    "                print(f\"Successfully loaded {filename} with fallback encoding ISO-8859-1\")\n",
    "            except Exception as e:\n",
    "                print(f\"Failed to load {filename} with fallback encoding: {e}\")\n",
    "                failed_files.append(filename) \n",
    "\n",
    "print(\"Data loaded:\", all_data.shape)"
   ]
  },
  {
   "cell_type": "code",
   "execution_count": 10,
   "id": "802d4113-b4aa-4a02-b267-266b19633cc8",
   "metadata": {},
   "outputs": [],
   "source": [
    "if 'crawl_date' not in all_data.columns or 'categories' not in all_data.columns:\n",
    "    print(\"Required columns are missing.\")\n",
    "else:\n",
    "    all_data['crawl_date'] = pd.to_datetime(all_data['crawl_date'], errors='coerce')\n",
    "\n",
    "    all_data['year'] = all_data['crawl_date'].dt.year\n",
    "\n",
    "    category_counts = all_data.groupby(['year', 'categories']).size().reset_index(name='count')"
   ]
  },
  {
   "cell_type": "code",
   "execution_count": 11,
   "id": "c7683757-6d95-43ff-a35a-81d2ba4ad316",
   "metadata": {},
   "outputs": [],
   "source": [
    "predictions = []\n",
    "\n",
    "for category in category_counts['categories'].unique():\n",
    "    category_data = category_counts[category_counts['categories'] == category]\n",
    "\n",
    "    if not category_data.empty:\n",
    "        X = category_data['year'].values.reshape(-1, 1)\n",
    "        y = category_data['count'].values\n",
    "\n",
    "        model = LinearRegression()\n",
    "        model.fit(X, y)\n",
    "\n",
    "        # Predict future for the next 5 years\n",
    "        max_year = int(category_data['year'].max())\n",
    "        future_years = np.array(range(max_year + 1, max_year + 6)).reshape(-1, 1)\n",
    "        future_predictions = model.predict(future_years)\n",
    "\n",
    "        predictions.append((category, future_predictions.sum()))\n",
    "\n",
    "predictions_df = pd.DataFrame(predictions, columns=['category', 'predicted_count'])\n"
   ]
  },
  {
   "cell_type": "code",
   "execution_count": null,
   "id": "a6c43a82-dc56-4a29-bd87-2448a0ca473c",
   "metadata": {
    "scrolled": true
   },
   "outputs": [],
   "source": [
    "predictions_df['category'] = predictions_df['category'].str.split(';')\n",
    "predictions_exploded = predictions_df.explode('category')\n",
    "\n",
    "def reshape_arabic_text(text):\n",
    "    try:\n",
    "        return get_display(arabic_reshaper.reshape(text))\n",
    "    except AssertionError:\n",
    "        print(f\"Error reshaping text: {text}\")\n",
    "        return text \n",
    "\n",
    "predictions_exploded['category'] = predictions_exploded['category'].astype(str)\n",
    "predictions_exploded['category'] = predictions_exploded['category'].apply(reshape_arabic_text)\n",
    "\n",
    "top_n = 10\n",
    "category_counts = predictions_exploded['category'].value_counts().nlargest(top_n).reset_index()\n",
    "category_counts.columns = ['category', 'predicted_count']\n",
    "\n",
    "plt.rcParams['font.family'] = 'Arial'\n",
    "\n",
    "plt.figure(figsize=(12, 8))\n",
    "sns.set_style('whitegrid')\n",
    "\n",
    "barplot = sns.barplot(x='predicted_count', y='category', data=category_counts, hue='category', palette='viridis', dodge=False, legend=False)\n",
    "\n",
    "plt.title('Predicted Top 10 Article Counts by Category for the 5 Upcoming Years', fontsize=16, color='darkblue', weight='bold')\n",
    "plt.xlabel('Predicted Article Count', fontsize=14, color='darkblue')\n",
    "plt.ylabel('Categories', fontsize=14, color='darkblue')\n",
    "\n",
    "for index, value in enumerate(category_counts['predicted_count']):\n",
    "    barplot.text(value + 0.5, index, f'{value:.0f}', color='black', ha='left', va='center', fontsize=12)\n",
    "\n",
    "plt.tight_layout()\n",
    "plt.show()\n",
    "\n",
    "print(\"Plotting complete. The predicted article counts per category have been visualized.\")"
   ]
  }
 ],
 "metadata": {
  "kernelspec": {
   "display_name": "Python 3 (ipykernel)",
   "language": "python",
   "name": "python3"
  },
  "language_info": {
   "codemirror_mode": {
    "name": "ipython",
    "version": 3
   },
   "file_extension": ".py",
   "mimetype": "text/x-python",
   "name": "python",
   "nbconvert_exporter": "python",
   "pygments_lexer": "ipython3",
   "version": "3.12.1"
  }
 },
 "nbformat": 4,
 "nbformat_minor": 5
}
